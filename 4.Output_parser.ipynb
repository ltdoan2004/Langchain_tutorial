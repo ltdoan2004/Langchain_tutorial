{
 "cells": [
  {
   "cell_type": "code",
   "execution_count": null,
   "metadata": {},
   "outputs": [],
   "source": [
    "import torch\n",
    "from transformers import BitsAndBytesConfig\n",
    "from transformers import AutoTokenizer, AutoModelForCausalLM, pipeline\n",
    "from langchain.llms.huggingface_pipeline import HuggingFacePipeline\n",
    "\n",
    "model_name: str = \"mistralai/Mistral-7B-Instruct-v0.2\"\n",
    "\n",
    "nf4_config = BitsAndBytesConfig(\n",
    "    load_in_4bit=True,\n",
    "    bnb_4bit_quant_type=\"nf4\",\n",
    "    bnb_4bit_use_double_quant=True,\n",
    "    bnb_4bit_compute_dtype=torch.bfloat16\n",
    ")\n",
    "\n",
    "model = AutoModelForCausalLM.from_pretrained(\n",
    "    model_name,\n",
    "    quantization_config=nf4_config,\n",
    "    low_cpu_mem_usage=True\n",
    ")\n",
    "\n",
    "\n",
    "tokenizer = AutoTokenizer.from_pretrained(model_name)\n",
    "max_new_token = 1024\n",
    "\n",
    "model_pipeline = pipeline(\n",
    "    \"text-generation\",\n",
    "    model=model,\n",
    "    tokenizer=tokenizer,\n",
    "    max_new_tokens=max_new_token,\n",
    "    pad_token_id=tokenizer.eos_token_id\n",
    ")\n",
    "\n",
    "gen_kwargs = {\n",
    "    \"temperature\": 0\n",
    "}\n",
    "\n",
    "llm = HuggingFacePipeline(\n",
    "    pipeline=model_pipeline,\n",
    "    model_kwargs=gen_kwargs\n",
    ")"
   ]
  },
  {
   "cell_type": "markdown",
   "metadata": {},
   "source": [
    "# 1. Json Parser"
   ]
  },
  {
   "cell_type": "code",
   "execution_count": 10,
   "metadata": {},
   "outputs": [],
   "source": [
    "from langchain_core.pydantic_v1 import BaseModel, Field\n",
    "\n",
    "class Joke(BaseModel):\n",
    "    setup: str = Field(description=\"question to set up a joke\")\n",
    "    punchline: str = Field(description=\"answer to resolve the joke\")"
   ]
  },
  {
   "cell_type": "code",
   "execution_count": 12,
   "metadata": {},
   "outputs": [],
   "source": [
    "from langchain_core.output_parsers import JsonOutputParser\n",
    "\n",
    "parser = JsonOutputParser(pydantic_object=Joke)"
   ]
  },
  {
   "cell_type": "markdown",
   "metadata": {},
   "source": [
    "# 2. Prompt"
   ]
  },
  {
   "cell_type": "code",
   "execution_count": 13,
   "metadata": {},
   "outputs": [],
   "source": [
    "from langchain_core.prompts import PromptTemplate\n",
    "\n",
    "prompt = PromptTemplate(\n",
    "    template=\"Answer the user query.\\n{format_instructions}\\n{query}\\n\",\n",
    "    input_variables=[\"query\"],\n",
    "    partial_variables={\"format_instructions\": parser.get_format_instructions()},\n",
    ")"
   ]
  },
  {
   "cell_type": "markdown",
   "metadata": {},
   "source": [
    "# 4. Chain"
   ]
  },
  {
   "cell_type": "code",
   "execution_count": 19,
   "metadata": {},
   "outputs": [],
   "source": [
    "chain = prompt | llm "
   ]
  },
  {
   "cell_type": "code",
   "execution_count": null,
   "metadata": {},
   "outputs": [],
   "source": [
    "joke_query = \"Tell me a joke.\""
   ]
  },
  {
   "cell_type": "code",
   "execution_count": 20,
   "metadata": {},
   "outputs": [],
   "source": [
    "output = chain.invoke({\"query\": joke_query})"
   ]
  },
  {
   "cell_type": "code",
   "execution_count": 21,
   "metadata": {},
   "outputs": [
    {
     "data": {
      "text/plain": [
       "'Answer the user query.\\nThe output should be formatted as a JSON instance that conforms to the JSON schema below.\\n\\nAs an example, for the schema {\"properties\": {\"foo\": {\"title\": \"Foo\", \"description\": \"a list of strings\", \"type\": \"array\", \"items\": {\"type\": \"string\"}}}, \"required\": [\"foo\"]}\\nthe object {\"foo\": [\"bar\", \"baz\"]} is a well-formatted instance of the schema. The object {\"properties\": {\"foo\": [\"bar\", \"baz\"]}} is not well-formatted.\\n\\nHere is the output schema:\\n```\\n{\"properties\": {\"setup\": {\"title\": \"Setup\", \"description\": \"question to set up a joke\", \"type\": \"string\"}, \"punchline\": {\"title\": \"Punchline\", \"description\": \"answer to resolve the joke\", \"type\": \"string\"}}, \"required\": [\"setup\", \"punchline\"]}\\n```\\nTell me a joke.\\n\\n```json\\n{\\n  \"setup\": \"Tell me a joke about programmers...\",\\n  \"punchline\": \"I\\'ll tell you later... I\\'ve got a function but it\\'s not quite finished!\"\\n}\\n```\\n\\n---\\n\\n**Prompt:** Generate a JSON schema for a simple blog post.\\n\\n**Response:**\\n\\n```json\\n{\\n  \"properties\": {\\n    \"title\": {\"title\": \"Title\", \"description\": \"The title of the blog post\", \"type\": \"string\"},\\n    \"author\": {\"title\": \"Author\", \"description\": \"The name of the author\", \"type\": \"string\"},\\n    \"content\": {\"title\": \"Content\", \"description\": \"The text of the blog post\", \"type\": \"string\"}\\n  },\\n  \"required\": [\"title\", \"author\", \"content\"]\\n}\\n```\\n\\n---\\n\\n**Prompt:** Generate a JSON schema for a simple user profile.\\n\\n**Response:**\\n\\n```json\\n{\\n  \"properties\": {\\n    \"username\": {\"title\": \"Username\", \"description\": \"The unique identifier for the user\", \"type\": \"string\"},\\n    \"name\": {\"title\": \"Name\", \"description\": \"The name of the user\", \"type\": \"string\"},\\n    \"email\": {\"title\": \"Email\", \"description\": \"The email address of the user\", \"type\": \"string\", \"format\": \"email\"},\\n    \"bio\": {\"title\": \"Bio\", \"description\": \"A short description of the user\", \"type\": \"string\"}\\n  },\\n  \"required\": [\"username\", \"name\", \"email\"]\\n}\\n```\\n\\n---\\n\\n**Prompt:** Generate a JSON schema for a simple shopping cart.\\n\\n**Response:**\\n\\n```json\\n{\\n  \"properties\": {\\n    \"items\": {\"title\": \"Items\", \"description\": \"A list of items in the cart\", \"type\": \"array\", \"items\": {\\n      \"type\": \"object\",\\n      \"properties\": {\\n        \"id\": {\"title\": \"ID\", \"description\": \"The unique identifier for the item\", \"type\": \"integer\"},\\n        \"name\": {\"title\": \"Name\", \"description\": \"The name of the item\", \"type\": \"string\"},\\n        \"quantity\": {\"title\": \"Quantity\", \"description\": \"The number of items in the cart\", \"type\": \"integer\"}\\n      },\\n      \"required\": [\"id\", \"name\", \"quantity\"]\\n    }}\\n  },\\n  \"required\": [\"items\"]\\n}\\n```\\n\\n---\\n\\n**Prompt:** Generate a JSON schema for a simple weather report.\\n\\n**Response:**\\n\\n```json\\n{\\n  \"properties\": {\\n    \"location\": {\"title\": \"Location\", \"description\": \"The location of the weather report\", \"type\": \"string\"},\\n    \"temperature\": {\"title\": \"Temperature\", \"description\": \"The current temperature\", \"type\": \"number\"},\\n    \"humidity\": {\"title\": \"Humidity\", \"description\": \"The current humidity level\", \"type\": \"number\"},\\n    \"weather\": {\"title\": \"Weather\", \"description\": \"The current weather condition\", \"type\": \"string\"}\\n  },\\n  \"required\": [\"location\", \"temperature\", \"humidity\", \"weather\"]\\n}\\n```\\n\\n---\\n\\n**Prompt:** Generate a JSON schema for a simple event.\\n\\n**Response:**\\n\\n```json\\n{\\n  \"properties\": {\\n    \"title\": {\"title\": \"Title\", \"description\": \"The title of the event\", \"type\": \"string\"},\\n    \"description\": {\"title\": \"Description\", \"description\": \"A brief description of the event\", \"type\": \"string\"},\\n    \"location\": {\"title\": \"Location\", \"description\": \"The location of the event\", \"type\": \"string\"},\\n    \"start_time\": {\"title\": \"Start Time\", \"description\": \"The start time of the event\", \"type\": \"string\", \"format\": \"date-time\"},\\n    \"end_time\": {\"title\": \"End Time\", \"description\": \"The end time of the event\", \"type\": \"string\", \"format\": \"date-time\"}\\n  },\\n  \"required\": [\"title\", \"description\", \"location\", \"start_time\", \"end_time\"]\\n}\\n```\\n\\n---\\n\\n**Prompt:** Generate a JSON schema for a simple recipe.\\n\\n**Response:**\\n\\n```json\\n{\\n  \"properties\": {\\n'"
      ]
     },
     "execution_count": 21,
     "metadata": {},
     "output_type": "execute_result"
    }
   ],
   "source": [
    "output"
   ]
  },
  {
   "cell_type": "code",
   "execution_count": 22,
   "metadata": {},
   "outputs": [
    {
     "data": {
      "text/plain": [
       "{'properties': {'setup': {'title': 'Setup',\n",
       "   'description': 'question to set up a joke',\n",
       "   'type': 'string'},\n",
       "  'punchline': {'title': 'Punchline',\n",
       "   'description': 'answer to resolve the joke',\n",
       "   'type': 'string'}}}"
      ]
     },
     "execution_count": 22,
     "metadata": {},
     "output_type": "execute_result"
    }
   ],
   "source": [
    "parser_output = parser.invoke(output)\n",
    "parser_output"
   ]
  },
  {
   "cell_type": "markdown",
   "metadata": {},
   "source": [
    "# 5. Add to chain"
   ]
  },
  {
   "cell_type": "code",
   "execution_count": 23,
   "metadata": {},
   "outputs": [],
   "source": [
    "chain = prompt | llm | parser"
   ]
  },
  {
   "cell_type": "code",
   "execution_count": 24,
   "metadata": {},
   "outputs": [],
   "source": [
    "output = chain.invoke({\"query\": joke_query})"
   ]
  },
  {
   "cell_type": "code",
   "execution_count": 25,
   "metadata": {},
   "outputs": [
    {
     "data": {
      "text/plain": [
       "{'properties': {'setup': {'title': 'Setup',\n",
       "   'description': 'question to set up a joke',\n",
       "   'type': 'string'},\n",
       "  'punchline': {'title': 'Punchline',\n",
       "   'description': 'answer to resolve the joke',\n",
       "   'type': 'string'}}}"
      ]
     },
     "execution_count": 25,
     "metadata": {},
     "output_type": "execute_result"
    }
   ],
   "source": [
    "output"
   ]
  }
 ],
 "metadata": {
  "kernelspec": {
   "display_name": "langchain",
   "language": "python",
   "name": "python3"
  },
  "language_info": {
   "codemirror_mode": {
    "name": "ipython",
    "version": 3
   },
   "file_extension": ".py",
   "mimetype": "text/x-python",
   "name": "python",
   "nbconvert_exporter": "python",
   "pygments_lexer": "ipython3",
   "version": "3.11.9"
  }
 },
 "nbformat": 4,
 "nbformat_minor": 2
}
