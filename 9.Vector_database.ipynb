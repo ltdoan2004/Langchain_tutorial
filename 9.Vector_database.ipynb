{
 "cells": [
  {
   "cell_type": "markdown",
   "metadata": {},
   "source": [
    "## Load document"
   ]
  },
  {
   "cell_type": "code",
   "execution_count": 1,
   "metadata": {},
   "outputs": [],
   "source": [
    "from langchain_community.document_loaders import PyPDFLoader\n",
    "\n",
    "pdf_url = \"https://arxiv.org/pdf/2312.16862.pdf\"\n",
    "\n",
    "pdf_loader = PyPDFLoader(pdf_url)\n",
    "pdf_pages = pdf_loader.load()"
   ]
  },
  {
   "cell_type": "code",
   "execution_count": 2,
   "metadata": {},
   "outputs": [
    {
     "data": {
      "text/plain": [
       "16"
      ]
     },
     "execution_count": 2,
     "metadata": {},
     "output_type": "execute_result"
    }
   ],
   "source": [
    "len(pdf_pages)"
   ]
  },
  {
   "cell_type": "markdown",
   "metadata": {},
   "source": [
    "## Split document "
   ]
  },
  {
   "cell_type": "code",
   "execution_count": 3,
   "metadata": {},
   "outputs": [],
   "source": [
    "from langchain_text_splitters import RecursiveCharacterTextSplitter\n",
    "\n",
    "\n",
    "chunk_size = 300\n",
    "chunk_overlap = 0\n",
    "\n",
    "splitter = RecursiveCharacterTextSplitter(\n",
    "    chunk_size=chunk_size,\n",
    "    chunk_overlap=chunk_overlap,\n",
    "    length_function=len,\n",
    "    is_separator_regex=False,\n",
    ")\n",
    "\n",
    "docs = splitter.split_documents(pdf_pages)"
   ]
  },
  {
   "cell_type": "code",
   "execution_count": 4,
   "metadata": {},
   "outputs": [
    {
     "data": {
      "text/plain": [
       "198"
      ]
     },
     "execution_count": 4,
     "metadata": {},
     "output_type": "execute_result"
    }
   ],
   "source": [
    "len(docs)"
   ]
  },
  {
   "cell_type": "code",
   "execution_count": 5,
   "metadata": {},
   "outputs": [
    {
     "data": {
      "text/plain": [
       "Document(page_content='Published as a conference paper at COLM 2024\\nTinyGPT-V: Efficient Multimodal Large Language Model\\nvia Small Backbones\\nZhengqing Yuan1, Zhaoxu Li2∗, Weiran Huang3, Yanfang Ye1, Lichao Sun2†\\n1University of Notre Dame2Lehigh University3Shanghai Jiao Tong University\\nAbstract', metadata={'source': 'https://arxiv.org/pdf/2312.16862.pdf', 'page': 0})"
      ]
     },
     "execution_count": 5,
     "metadata": {},
     "output_type": "execute_result"
    }
   ],
   "source": [
    "docs[0]"
   ]
  },
  {
   "cell_type": "markdown",
   "metadata": {},
   "source": [
    "## Embedding model"
   ]
  },
  {
   "cell_type": "code",
   "execution_count": 6,
   "metadata": {},
   "outputs": [],
   "source": [
    "from langchain_community.embeddings import HuggingFaceEmbeddings\n",
    "embedding_model = HuggingFaceEmbeddings()"
   ]
  },
  {
   "cell_type": "markdown",
   "metadata": {},
   "source": [
    "# 1. Chrom vector database"
   ]
  },
  {
   "cell_type": "code",
   "execution_count": 7,
   "metadata": {},
   "outputs": [],
   "source": [
    "# %pip install langchain-chroma"
   ]
  },
  {
   "cell_type": "code",
   "execution_count": 8,
   "metadata": {},
   "outputs": [],
   "source": [
    "from langchain_chroma import Chroma"
   ]
  },
  {
   "cell_type": "code",
   "execution_count": 9,
   "metadata": {},
   "outputs": [
    {
     "name": "stderr",
     "output_type": "stream",
     "text": [
      "Exception occurred invoking consumer for subscription ad0fd55aaed14b45ac2902e2379eeb3eto topic persistent://default/default/42fdc2c2-bbf3-4f90-a4f3-a0d26304b74a 'utf-8' codec can't encode character '\\ud835' in position 86: surrogates not allowed\n"
     ]
    }
   ],
   "source": [
    "chroma_db = Chroma.from_documents(docs, embedding=embedding_model)\n"
   ]
  },
  {
   "cell_type": "code",
   "execution_count": 10,
   "metadata": {},
   "outputs": [],
   "source": [
    "query = \"what is multimodal large language models?\""
   ]
  },
  {
   "cell_type": "code",
   "execution_count": 11,
   "metadata": {},
   "outputs": [],
   "source": [
    "similar_docs = chroma_db.similarity_search(query, k=4)"
   ]
  },
  {
   "cell_type": "code",
   "execution_count": 12,
   "metadata": {},
   "outputs": [
    {
     "data": {
      "text/plain": [
       "4"
      ]
     },
     "execution_count": 12,
     "metadata": {},
     "output_type": "execute_result"
    }
   ],
   "source": [
    "len(similar_docs)"
   ]
  },
  {
   "cell_type": "code",
   "execution_count": 13,
   "metadata": {},
   "outputs": [
    {
     "data": {
      "text/plain": [
       "[Document(page_content='1 Introduction\\nIn recent years, the field of artificial intelligence has seen significant advancements through\\nthe development of multimodal large language models (MLLMs), such as GPT-4V , which\\nhave shown exceptional performance across a range of vision-language tasks (Yang', metadata={'page': 0, 'source': 'https://arxiv.org/pdf/2312.16862.pdf'}),\n",
       " Document(page_content='In recent years, multimodal large language models (MLLMs) such as GPT-\\n4V have demonstrated remarkable advancements, excelling in a variety\\nof vision-language tasks. Despite their prowess, the closed-source na-\\nture and computational demands of such models limit their accessibility', metadata={'page': 0, 'source': 'https://arxiv.org/pdf/2312.16862.pdf'}),\n",
       " Document(page_content='Published as a conference paper at COLM 2024\\nTinyGPT-V: Efficient Multimodal Large Language Model\\nvia Small Backbones\\nZhengqing Yuan1, Zhaoxu Li2∗, Weiran Huang3, Yanfang Ye1, Lichao Sun2†\\n1University of Notre Dame2Lehigh University3Shanghai Jiao Tong University\\nAbstract', metadata={'page': 0, 'source': 'https://arxiv.org/pdf/2312.16862.pdf'}),\n",
       " Document(page_content='Multimodal language model. In recent years, the trend of aligning visual input to large\\nlanguage models for vision-language tasks has gained significant attention (Chen et al.,\\n2022; Tsimpoukelli et al., 2021; Alayrac et al., 2022; Li et al., 2023a; Liu et al., 2023b;a;', metadata={'page': 2, 'source': 'https://arxiv.org/pdf/2312.16862.pdf'})]"
      ]
     },
     "execution_count": 13,
     "metadata": {},
     "output_type": "execute_result"
    }
   ],
   "source": [
    "similar_docs"
   ]
  },
  {
   "cell_type": "markdown",
   "metadata": {},
   "source": [
    "# 2. FASII vector database"
   ]
  },
  {
   "cell_type": "code",
   "execution_count": 14,
   "metadata": {},
   "outputs": [],
   "source": [
    "# %pip install faiss-cpu"
   ]
  },
  {
   "cell_type": "code",
   "execution_count": 15,
   "metadata": {},
   "outputs": [],
   "source": [
    "from langchain_community.vectorstores import FAISS"
   ]
  },
  {
   "cell_type": "code",
   "execution_count": 16,
   "metadata": {},
   "outputs": [],
   "source": [
    "faiss_db = FAISS.from_documents(docs, embedding=embedding_model)"
   ]
  },
  {
   "cell_type": "code",
   "execution_count": 17,
   "metadata": {},
   "outputs": [],
   "source": [
    "query = \"what is multimodal large language models?\""
   ]
  },
  {
   "cell_type": "code",
   "execution_count": 18,
   "metadata": {},
   "outputs": [],
   "source": [
    "similar_docs = chroma_db.similarity_search(query, k=4)"
   ]
  },
  {
   "cell_type": "code",
   "execution_count": 19,
   "metadata": {},
   "outputs": [
    {
     "data": {
      "text/plain": [
       "4"
      ]
     },
     "execution_count": 19,
     "metadata": {},
     "output_type": "execute_result"
    }
   ],
   "source": [
    "len(similar_docs)"
   ]
  },
  {
   "cell_type": "code",
   "execution_count": 20,
   "metadata": {},
   "outputs": [
    {
     "data": {
      "text/plain": [
       "[Document(page_content='1 Introduction\\nIn recent years, the field of artificial intelligence has seen significant advancements through\\nthe development of multimodal large language models (MLLMs), such as GPT-4V , which\\nhave shown exceptional performance across a range of vision-language tasks (Yang', metadata={'page': 0, 'source': 'https://arxiv.org/pdf/2312.16862.pdf'}),\n",
       " Document(page_content='In recent years, multimodal large language models (MLLMs) such as GPT-\\n4V have demonstrated remarkable advancements, excelling in a variety\\nof vision-language tasks. Despite their prowess, the closed-source na-\\nture and computational demands of such models limit their accessibility', metadata={'page': 0, 'source': 'https://arxiv.org/pdf/2312.16862.pdf'}),\n",
       " Document(page_content='Published as a conference paper at COLM 2024\\nTinyGPT-V: Efficient Multimodal Large Language Model\\nvia Small Backbones\\nZhengqing Yuan1, Zhaoxu Li2∗, Weiran Huang3, Yanfang Ye1, Lichao Sun2†\\n1University of Notre Dame2Lehigh University3Shanghai Jiao Tong University\\nAbstract', metadata={'page': 0, 'source': 'https://arxiv.org/pdf/2312.16862.pdf'}),\n",
       " Document(page_content='Multimodal language model. In recent years, the trend of aligning visual input to large\\nlanguage models for vision-language tasks has gained significant attention (Chen et al.,\\n2022; Tsimpoukelli et al., 2021; Alayrac et al., 2022; Li et al., 2023a; Liu et al., 2023b;a;', metadata={'page': 2, 'source': 'https://arxiv.org/pdf/2312.16862.pdf'})]"
      ]
     },
     "execution_count": 20,
     "metadata": {},
     "output_type": "execute_result"
    }
   ],
   "source": [
    "similar_docs"
   ]
  }
 ],
 "metadata": {
  "kernelspec": {
   "display_name": "langchain",
   "language": "python",
   "name": "python3"
  },
  "language_info": {
   "codemirror_mode": {
    "name": "ipython",
    "version": 3
   },
   "file_extension": ".py",
   "mimetype": "text/x-python",
   "name": "python",
   "nbconvert_exporter": "python",
   "pygments_lexer": "ipython3",
   "version": "3.11.9"
  }
 },
 "nbformat": 4,
 "nbformat_minor": 2
}
